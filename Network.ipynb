{
 "cells": [
  {
   "cell_type": "code",
   "execution_count": 1,
   "metadata": {},
   "outputs": [],
   "source": [
    "import numpy as np\n",
    "import sys,math\n",
    "\n",
    "import matplotlib.pyplot as plt\n",
    "plt.rcParams['figure.figsize'] = [16, 9]"
   ]
  },
  {
   "cell_type": "code",
   "execution_count": null,
   "metadata": {},
   "outputs": [],
   "source": [
    "class network(object):\n",
    "    def __init__(self,**kwargs):\n",
    "        self.__size = kwargs.get('N',100)\n",
    "        self.__k    = kwargs.get('K',5)\n",
    "        self.__r    = kwargs.get('r',.1)\n",
    "        \n",
    "        self.__nodes = 2*np.rand.randint(0,1,size = self.__size)-1\n",
    "        \n",
    "        self.__step = 0\n",
    "        self.__lastupdate = -np.ones(self.__size)\n",
    "        \n",
    "        self.__adj = np.zeros(self.__size,self.__size)\n",
    "        \n",
    "    def step(self):\n",
    "        update = np.rand.choice([True,False], p = [self.__r, 1 - self.__r], size = self.__size)\n",
    "        \n",
    "        \n"
   ]
  }
 ],
 "metadata": {
  "kernelspec": {
   "display_name": "Python 3",
   "language": "python",
   "name": "python3"
  },
  "language_info": {
   "codemirror_mode": {
    "name": "ipython",
    "version": 3
   },
   "file_extension": ".py",
   "mimetype": "text/x-python",
   "name": "python",
   "nbconvert_exporter": "python",
   "pygments_lexer": "ipython3",
   "version": "3.6.8"
  }
 },
 "nbformat": 4,
 "nbformat_minor": 2
}
