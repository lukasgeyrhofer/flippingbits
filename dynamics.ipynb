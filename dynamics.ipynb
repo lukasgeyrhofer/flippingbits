{
 "cells": [
  {
   "cell_type": "code",
   "execution_count": null,
   "metadata": {},
   "outputs": [],
   "source": [
    "import numpy as np\n",
    "import scipy.special as sps\n",
    "import sys,math\n",
    "\n",
    "import matplotlib.pyplot as plt\n",
    "plt.rcParams['figure.figsize'] = [10, 5]"
   ]
  },
  {
   "cell_type": "code",
   "execution_count": null,
   "metadata": {},
   "outputs": [],
   "source": [
    "def step(q):\n",
    "    k = len(q)-1\n",
    "    a = np.diag((np.arange(k,dtype=float)+1)/k,1) + np.diag((k-np.arange(k,dtype=float))/k,-1) # - np.eye(k+1)\n",
    "    return np.dot(a,q)\n",
    "\n",
    "def iteratesteps(q,steps = 1):\n",
    "    if steps == 1:\n",
    "        return step(q)\n",
    "    else:\n",
    "        return iteratesteps(step(q),steps - 1)\n",
    "\n",
    "def binomdistr(k = 5):\n",
    "    return sps.binom(k,np.arange(k+1))/2**k\n",
    "\n",
    "def deltastart(i,k = 5):\n",
    "    r = np.zeros(k+1)\n",
    "    r[i] = 1.\n",
    "    return r"
   ]
  },
  {
   "cell_type": "code",
   "execution_count": null,
   "metadata": {},
   "outputs": [],
   "source": [
    "q = binomdistr(4)\n",
    "q = deltastart(1,6)\n",
    "iteratesteps(q,10)"
   ]
  },
  {
   "cell_type": "code",
   "execution_count": null,
   "metadata": {},
   "outputs": [],
   "source": [
    "q = deltastart(1,6)\n",
    "maxsteps = 10\n",
    "for i in range(maxsteps):\n",
    "    plt.plot(q)\n",
    "    q = step(q)\n",
    "plt.plot(binomdistr(6))\n",
    "plt.show()"
   ]
  },
  {
   "cell_type": "code",
   "execution_count": null,
   "metadata": {},
   "outputs": [],
   "source": []
  }
 ],
 "metadata": {
  "kernelspec": {
   "display_name": "Python 3",
   "language": "python",
   "name": "python3"
  },
  "language_info": {
   "codemirror_mode": {
    "name": "ipython",
    "version": 3
   },
   "file_extension": ".py",
   "mimetype": "text/x-python",
   "name": "python",
   "nbconvert_exporter": "python",
   "pygments_lexer": "ipython3",
   "version": "3.6.8"
  }
 },
 "nbformat": 4,
 "nbformat_minor": 2
}
